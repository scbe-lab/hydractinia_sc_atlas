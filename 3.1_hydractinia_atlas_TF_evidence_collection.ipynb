{
 "cells": [
  {
   "cell_type": "markdown",
   "id": "11174454",
   "metadata": {
    "id": "11174454"
   },
   "source": [
    "## Generating evidences for TF annotation  "
   ]
  },
  {
   "cell_type": "code",
   "execution_count": null,
   "id": "54d2c20b",
   "metadata": {
    "id": "54d2c20b"
   },
   "outputs": [],
   "source": [
    "#Run all this in the terminal\n",
    "# Download the databases\n",
    "# swissprot\n",
    "wget https://ftp.uniprot.org/pub/databases/uniprot/current_release/knowledgebase/complete/uniprot_sprot.fasta.gz\n",
    "\n",
    "#hsym.pep was removed of * at the end of the peptide sequences so interpro doesn't complain\n",
    "#Interproscan searching pfam and panther matches\n",
    "../../my_interproscan/interproscan-5.60-92.0/interproscan.sh \\\n",
    "-i ../hysim_interpro.pep -d ./ --cpu 12 -goterms --appl Pfam,PANTHER\n",
    "\n",
    "#Interproscan searching superfamily matches\n",
    "../../my_interproscan/interproscan-5.60-92.0/interproscan.sh \\\n",
    "-i ../hysim_interpro.pep -d ./ --cpu 12 -goterms --appl SUPERFAMILY\n",
    "\n",
    "#Link or rename each tsv file accordingly"
   ]
  },
  {
   "cell_type": "markdown",
   "id": "086e69b9",
   "metadata": {
    "id": "086e69b9"
   },
   "source": [
    "## Reciprocal blast to get the best top hits with uniprot  "
   ]
  },
  {
   "cell_type": "code",
   "execution_count": null,
   "id": "cd6ea2f0",
   "metadata": {
    "id": "cd6ea2f0"
   },
   "outputs": [],
   "source": [
    "makeblastdb -dbtype prot -in ./hysim_namesmod.pep\n",
    "\n",
    "blastp -db ./hysim_namesmod.pep \\\n",
    "       -query $PATH/DATA/static/databases/uniprot_swissprot/uniprot_sprot.fasta \\\n",
    "       -max_target_seqs 1 -outfmt 6 -evalue 1e-5 -num_threads 10 > ./swissprot_hysim.out\n",
    "\n",
    "blastp -query ./hysim_namesmod.pep \\\n",
    "       -db $PATH/DATA/static/databases/uniprot_swissprot/uniprot_sprot.fasta \\\n",
    "       -max_target_seqs 1 -outfmt 6 -evalue 1e-5 -num_threads 10 > ./hysim_swissprot.out\n",
    "\n",
    "awk '{OFS=\"_\"} {print($1,$2)}' hysim_swissprot.out| sort | uniq > hysim_swissprot.txt\n",
    "awk '{OFS=\"_\"} {print($2,$1)}' swissprot_hysim.out| sort | uniq > swissprot_hysim.txt\n",
    "\n",
    "#There are different ways to find the intersection between these two files\n",
    "#all the three methods below work in similar way\n",
    "grep -Ff swissprot_hysim.txt hysim_swissprot.txt > test1\n",
    "grep -Fx -f swissprot_hysim.txt hysim_swissprot.txt > test2 #decided to go with this option, but further testing needs to be done\n",
    "comm -12 <(sort swissprot_hysim.txt) <(sort hysim_swissprot.txt)> test3\n",
    "\n",
    "#this last one keeps both matches in the same line, not necessarily usefull for this purpose\n",
    "join <(sort swissprot_hysim.txt) <(sort hysim_swissprot.txt) > test4\n",
    "\n",
    "#resulting file in Hydractinia_swissprot_REPBESTHIT.tsv"
   ]
  },
  {
   "cell_type": "markdown",
   "id": "d830ead2",
   "metadata": {
    "id": "d830ead2"
   },
   "source": [
    "## EggNOG mapping"
   ]
  },
  {
   "cell_type": "code",
   "execution_count": null,
   "id": "85ab3d2c",
   "metadata": {
    "id": "85ab3d2c"
   },
   "outputs": [],
   "source": [
    "#downloading and setting up the database\n",
    "wget https://github.com/eggnogdb/eggnog-mapper/archive/refs/tags/2.1.10.tar.gz\n",
    "tar xzvf 2.1.10.tar.gz\n",
    "sudo python3 download_eggnog_data.py\n",
    "#running the command\n",
    "../eggnog-mapper-2.1.10/emapper.py --cpu 12 -i hysim_namesmod.pep\\\n",
    "--itype proteins -m diamond --sensmode sensitive --target_orthologs all\\\n",
    "--go_evidence non-electronic --output ./hysim_eggnog\n",
    "\n",
    "#retrieve the names used for annotation\n",
    "cut -f1,9 ./hysim_eggnog.emapper.annotations > hysim_eggnog_preferred_names.tsv\n",
    "\n",
    "#retrieve the GO terms which are going to be used in the topGO package\n",
    "cut -f1,10 ./hysim_eggnog.emapper.annotations > hysim_eggnog_GOs.tsv\n",
    "\n",
    "#retrieve gene-COG table to use later in the analysis\n",
    "cut -f1,7 ./hysim_eggnog.emapper.annotations > hysim_eggnog_COGs.tsv"
   ]
  },
  {
   "cell_type": "markdown",
   "id": "ca8c3d5d",
   "metadata": {
    "id": "ca8c3d5d"
   },
   "source": [
    "## Orthofinder to classify the TFs into orthogroups accordingly to the better annotated database"
   ]
  },
  {
   "cell_type": "code",
   "execution_count": null,
   "id": "35073e26",
   "metadata": {
    "id": "35073e26"
   },
   "outputs": [],
   "source": [
    "#when installing orthofinder use python3.7 and diamond 0.9.24\n",
    "conda create -n orthofinder -c bioconda orthofinder\n",
    "\n",
    "# Genomes from ENSEMBL were downloaded with gget and genomepy\n",
    "# Dmel, Drer, Hsap, Mmus, Smed, Xtro were used togehter with hysim_longest.pep\n",
    "# More cnidarian species had to be included to not have long branch effects by triploblastic animals\n",
    "# Hvu (Hydra vulgaris), Nve (Nematostella vectensis), Ami (Acropora millepora),\n",
    "# Spu (Strongylocentrotus purpuratus), Tad (Tricoplax adhaerens)\n",
    "\n",
    "orthofinder -t 12 -M dendroblast -S diamond -f proteomes/\n",
    "ln -s ./orthofinder/proteomes/OrthoFinder/Results_Jul14/Orthogroups/Orthogroups.tsv\n",
    "./hsym_orthogroups.tsv"
   ]
  },
  {
   "cell_type": "markdown",
   "id": "939e67e9",
   "metadata": {
    "id": "939e67e9"
   },
   "source": [
    "# Gathering evidences of TF annotation in R"
   ]
  },
  {
   "cell_type": "code",
   "execution_count": null,
   "id": "259b823c",
   "metadata": {
    "id": "259b823c"
   },
   "outputs": [],
   "source": [
    "import numpy as np\n",
    "import pandas as pd\n",
    "import scanpy as sc\n",
    "import scanpy.external as sce\n",
    "import harmonypy as hm\n",
    "import seaborn as sns\n",
    "import matplotlib.pyplot as plt\n",
    "import scipy as sp"
   ]
  },
  {
   "cell_type": "code",
   "execution_count": null,
   "id": "00c15231",
   "metadata": {
    "id": "00c15231"
   },
   "outputs": [],
   "source": [
    "%matplotlib inline\n",
    "sc.set_figure_params(dpi=300)\n",
    "\n",
    "import seaborn as sns\n",
    "sns.set(style=\"whitegrid\")\n",
    "%load_ext rpy2.ipython"
   ]
  },
  {
   "cell_type": "markdown",
   "id": "e5954bac",
   "metadata": {
    "id": "e5954bac"
   },
   "source": [
    "### Setup of the working environment  "
   ]
  },
  {
   "cell_type": "code",
   "execution_count": null,
   "id": "f891b9cc",
   "metadata": {
    "id": "f891b9cc",
    "outputId": "b9d197fe-2851-45dc-91b0-b33f028ada66",
    "scrolled": true
   },
   "outputs": [
    {
     "name": "stderr",
     "output_type": "stream",
     "text": [
      "R[write to console]: \n",
      "Attaching package: ‘dplyr’\n",
      "\n",
      "\n",
      "R[write to console]: The following objects are masked from ‘package:stats’:\n",
      "\n",
      "    filter, lag\n",
      "\n",
      "\n",
      "R[write to console]: The following objects are masked from ‘package:base’:\n",
      "\n",
      "    intersect, setdiff, setequal, union\n",
      "\n",
      "\n",
      "R[write to console]: \n",
      "Attaching package: ‘tidyr’\n",
      "\n",
      "\n",
      "R[write to console]: The following object is masked from ‘package:reshape2’:\n",
      "\n",
      "    smiths\n",
      "\n",
      "\n",
      "R[write to console]: Loading required package: grid\n",
      "\n",
      "R[write to console]: Loading required package: futile.logger\n",
      "\n"
     ]
    }
   ],
   "source": [
    "%%R\n",
    "dir <- \"$PATH/interpro_diamond_blast/hydractinia_only/\"\n",
    "setwd(dir)\n",
    "\n",
    "fcha <- function(){ gsub(\"-\",\"\",Sys.Date()) }\n",
    "\n",
    "library(vroom)\n",
    "library(dplyr)\n",
    "library(reshape2)\n",
    "library(stringi)\n",
    "library(tidyr)\n",
    "library(VennDiagram)\n",
    "display_venn <- function(x, ...){\n",
    "  library(VennDiagram)\n",
    "  grid.newpage()\n",
    "  venn_object <- venn.diagram(x, filename = NULL, ...)\n",
    "  grid.draw(venn_object)\n",
    "}"
   ]
  },
  {
   "cell_type": "markdown",
   "id": "c50dead3",
   "metadata": {
    "id": "c50dead3"
   },
   "source": [
    "#### Merging sources of evidence"
   ]
  },
  {
   "cell_type": "code",
   "execution_count": null,
   "id": "7fe47202",
   "metadata": {
    "id": "7fe47202"
   },
   "outputs": [],
   "source": [
    "%%R\n",
    "## the protein ids of these sequences were greped into a txt file\n",
    "hysim_ids <- read.table(\"./hsym.pep.ids.txt\"); colnames(hysim_ids) <- c(\"id\")\n",
    "\n",
    "hysim_TFS_fulltable <- data.frame( id= hysim_ids$id)"
   ]
  },
  {
   "cell_type": "code",
   "execution_count": null,
   "id": "4fd23927",
   "metadata": {
    "id": "4fd23927"
   },
   "outputs": [],
   "source": [
    "%%R\n",
    "## Pfam\n",
    "pfam_list <- read.delim2(\"./pfam_panther/hsym_pep_names_mod.fa.tsv\", header=F)\n",
    "pfam_list <- unique(pfam_list[,c(1,5,6,13,14)])\n",
    "colnames(pfam_list)<- c(\"id\",\"PF\",\"PF_name\",\"PF_group?\",\"GO\")\n",
    "\n",
    "hysim_TFS_fulltable <- merge(hysim_TFS_fulltable, pfam_list, by.x=1, by.y=1, all.x=T)"
   ]
  },
  {
   "cell_type": "code",
   "execution_count": null,
   "id": "384c3409",
   "metadata": {
    "id": "384c3409",
    "outputId": "8353e672-695d-477a-fcf5-7f83a6525bc6"
   },
   "outputs": [
    {
     "name": "stdout",
     "output_type": "stream",
     "text": [
      "              id        PF                                        PF_name\n",
      "1 XP_057309572.1   PF03901           Alg9-like mannosyltransferase family\n",
      "2 XP_057309572.1 PTHR22760                            GLYCOSYLTRANSFERASE\n",
      "3 XP_057312515.1 PTHR10159           DUAL SPECIFICITY PROTEIN PHOSPHATASE\n",
      "4 XP_057312515.1   PF00782 Dual specificity phosphatase, catalytic domain\n",
      "5 XP_057308742.1 PTHR22930                                UNCHARACTERIZED\n",
      "6 XP_057308742.1   PF13359                   DDE superfamily endonuclease\n",
      "                                       PF_group?                    GO\n",
      "1                        GPI mannosyltransferase            GO:0016757\n",
      "2                        GPI mannosyltransferase            GO:0016757\n",
      "3                                              -                      \n",
      "4 Dual specificity phosphatase, catalytic domain GO:0008138|GO:0016311\n",
      "5                                              -                      \n",
      "6  Harbinger transposase-derived nuclease domain                     -\n"
     ]
    }
   ],
   "source": [
    "%%R\n",
    "head(pfam_list)"
   ]
  },
  {
   "cell_type": "code",
   "execution_count": null,
   "id": "82296d8d",
   "metadata": {
    "id": "82296d8d"
   },
   "outputs": [],
   "source": [
    "%%R\n",
    "## Superfamily\n",
    "supfam_list <- read.delim2(\"./superfamily/hsym_pep_names_mod.fa.tsv\", header=F)\n",
    "supfam_list <- unique(supfam_list[,c(1,6,13)])\n",
    "colnames(supfam_list) <- c(\"id\",\"SF_domain\",\"SF_superfam\")\n",
    "\n",
    "hysim_TFS_fulltable <- merge(hysim_TFS_fulltable, supfam_list, by.x=1, by.y=1, all.x=T)"
   ]
  },
  {
   "cell_type": "code",
   "execution_count": null,
   "id": "ea253218",
   "metadata": {
    "id": "ea253218",
    "outputId": "331321ce-c862-4fa5-a5d9-174d7617104a"
   },
   "outputs": [
    {
     "name": "stdout",
     "output_type": "stream",
     "text": [
      "              id                                 SF_domain\n",
      "1 XP_057312515.1 (Phosphotyrosine protein) phosphatases II\n",
      "2 XP_057301354.1                            Ankyrin repeat\n",
      "4 XP_057289341.1                                   Ras GEF\n",
      "5 XP_057294130.1                               BRCT domain\n",
      "6 XP_057294130.1                            Ankyrin repeat\n",
      "8 XP_057294130.1                                RING/U-box\n",
      "                                                SF_superfam\n",
      "1                         Protein-tyrosine phosphatase-like\n",
      "2              Ankyrin repeat-containing domain superfamily\n",
      "4 Ras guanine nucleotide exchange factor domain superfamily\n",
      "5                                   BRCT domain superfamily\n",
      "6              Ankyrin repeat-containing domain superfamily\n",
      "8                                                         -\n"
     ]
    }
   ],
   "source": [
    "%%R\n",
    "head(supfam_list)"
   ]
  },
  {
   "cell_type": "code",
   "execution_count": null,
   "id": "ee5cd11b",
   "metadata": {
    "id": "ee5cd11b",
    "scrolled": true
   },
   "outputs": [],
   "source": [
    "%%R\n",
    "## Reciprocal blastps\n",
    "\n",
    "hysim_blastp_list <- read.table(\"./swissprot/Hydractinia_swissprot_REPBESTHITS_namesmod.tsv\", sep= \"=\", header=F)\n",
    "\n",
    "colnames(hysim_blastp_list) <- c(\"id\",\"rbhit_organism\")\n",
    "\n",
    "##already downloaded blast database\n",
    "blastp_list_TFs <- read.delim2(\n",
    "  \"$PATH/DATA/static/databases/uniprot_swissprot/20220708_swissprot_TFs.tsv\",\n",
    "  header = F)"
   ]
  },
  {
   "cell_type": "code",
   "execution_count": null,
   "id": "095baf06",
   "metadata": {
    "id": "095baf06",
    "outputId": "971b153b-95df-46d9-d8c3-6862d853981f"
   },
   "outputs": [
    {
     "name": "stdout",
     "output_type": "stream",
     "text": [
      "              id        rbhit_organism\n",
      "1 XP_057289301.1  sp|P04818|TYSY_HUMAN\n",
      "2 XP_057289302.1 sp|Q7L8A9|VASH1_HUMAN\n",
      "3 XP_057289309.1 sp|P97314|CSRP2_MOUSE\n",
      "4 XP_057289313.1 sp|Q91584|ELAV3_XENLA\n",
      "5 XP_057289317.1 sp|O18973|RABX5_BOVIN\n",
      "6 XP_057289318.1 sp|Q9UJ41|RABX5_HUMAN\n"
     ]
    }
   ],
   "source": [
    "%%R\n",
    "head(hysim_blastp_list)"
   ]
  },
  {
   "cell_type": "code",
   "execution_count": null,
   "id": "27a7c483",
   "metadata": {
    "id": "27a7c483",
    "outputId": "12cdbdaa-62ce-4451-cc9f-a24d7dd3830a"
   },
   "outputs": [
    {
     "name": "stdout",
     "output_type": "stream",
     "text": [
      "              id        rbhit_organism\n",
      "1 XP_057289301.1  sp|P04818|TYSY_HUMAN\n",
      "2 XP_057289302.1 sp|Q7L8A9|VASH1_HUMAN\n",
      "3 XP_057289309.1 sp|P97314|CSRP2_MOUSE\n",
      "4 XP_057289313.1 sp|Q91584|ELAV3_XENLA\n",
      "5 XP_057289317.1 sp|O18973|RABX5_BOVIN\n",
      "6 XP_057289318.1 sp|Q9UJ41|RABX5_HUMAN\n"
     ]
    }
   ],
   "source": [
    "%%R\n",
    "head(hysim_blastp_list)"
   ]
  },
  {
   "cell_type": "code",
   "execution_count": null,
   "id": "2b7f3b4c",
   "metadata": {
    "id": "2b7f3b4c"
   },
   "outputs": [],
   "source": [
    "%%R\n",
    "#Filter only hits from TFs and add description\n",
    "hysim_blastp_list_TFs <- merge(hysim_blastp_list, blastp_list_TFs,\n",
    "                               by.x = 2, by.y = 1\n",
    "                              )[,c(2,1,3)]; colnames(hysim_blastp_list_TFs)[3] <- \"rbhit_description\"\n",
    "\n",
    "#merge with the full tables of evidence\n",
    "hysim_TFS_fulltable <- merge(hysim_TFS_fulltable, hysim_blastp_list_TFs,\n",
    "                             by.x = 1, by.y = 1, all.x = T)"
   ]
  },
  {
   "cell_type": "code",
   "execution_count": null,
   "id": "f2e94fc6",
   "metadata": {
    "id": "f2e94fc6",
    "outputId": "f7822f8e-2eb6-4411-c661-6b89c48a4ae9"
   },
   "outputs": [
    {
     "name": "stdout",
     "output_type": "stream",
     "text": [
      "Rows: 49014 Columns: 13\n",
      "── Column specification ────────────────────────────────────────────────────────\n",
      "Delimiter: \"\\t\"\n",
      "chr (13): Orthogroup, Ami, Dmel, Drer, Hsap, Hsim, Hvu, Mmus, Nve, Smed, Spu...\n",
      "\n",
      "ℹ Use `spec()` to retrieve the full column specification for this data.\n",
      "ℹ Specify the column types or set `show_col_types = FALSE` to quiet this message.\n"
     ]
    }
   ],
   "source": [
    "%%R\n",
    "## Orthofinder\n",
    "\n",
    "hysim_orthogroups <- vroom(file = \"./hsym_orthogroups.tsv\",)\n",
    "animaltfdb <- read.delim2(\n",
    "  \"$PATH/DATA/static/databases/animalTFDB/20220707_animalTFDB3_0.tsv\", header = T)\n",
    "\n",
    "animaltfdb <- animaltfdb[!(animaltfdb$Species == \"Caenorhabditis_elegans\"),]\n",
    "#removed c elegans since it was not used in Orthofinder\n",
    "animaltfdb <- unique(animaltfdb  %>% separate_rows(\"Protein\"))[,c(5,4,2,1)]\n",
    "animaltfdb <- as.data.frame(animaltfdb[!(animaltfdb$Protein == \"\"),])\n",
    "\n",
    "hysim_orthogroups <- hysim_orthogroups[\n",
    "  !(is.na ( hysim_orthogroups$Hsim)),\n",
    "]\n",
    "\n"
   ]
  },
  {
   "cell_type": "code",
   "execution_count": null,
   "id": "2490e50a",
   "metadata": {
    "id": "2490e50a",
    "outputId": "3f2b9296-457f-4bfc-c514-d2f66af3a9e4"
   },
   "outputs": [
    {
     "name": "stdout",
     "output_type": "stream",
     "text": [
      " [1] \"Orthogroup\" \"Ami\"        \"Dmel\"       \"Drer\"       \"Hsap\"      \n",
      " [6] \"Hsim\"       \"Hvu\"        \"Mmus\"       \"Nve\"        \"Smed\"      \n",
      "[11] \"Spu\"        \"Tad\"        \"Xtro\"      \n"
     ]
    }
   ],
   "source": [
    "%%R\n",
    "colnames(hysim_orthogroups)\n",
    "# check that each species is organized in the right positon to subset it"
   ]
  },
  {
   "cell_type": "code",
   "execution_count": null,
   "id": "32b70915",
   "metadata": {
    "id": "32b70915",
    "outputId": "db61a226-dc59-4c38-f982-1343f1fdf879"
   },
   "outputs": [
    {
     "name": "stdout",
     "output_type": "stream",
     "text": [
      "# A tibble: 6 × 2\n",
      "  Orthogroup Hsap                                                               \n",
      "  <chr>      <chr>                                                              \n",
      "1 OG0000000  ENSP00000222726.3, ENSP00000222728.3, ENSP00000225648.3, ENSP00000…\n",
      "2 OG0000001  ENSP00000005995.3, ENSP00000156499.3, ENSP00000161006.3, ENSP00000…\n",
      "3 OG0000002  ENSP00000086933.2, ENSP00000221996.5, ENSP00000226382.2, ENSP00000…\n",
      "4 OG0000003  ENSP00000260682.6, ENSP00000285979.6, ENSP00000291764.3, ENSP00000…\n",
      "5 OG0000004  ENSP00000162391.3, ENSP00000250448.3, ENSP00000261302.5, ENSP00000…\n",
      "6 OG0000005  <NA>                                                               \n"
     ]
    }
   ],
   "source": [
    "%%R\n",
    "head(hysim_orthogroups[,c(1,5)])"
   ]
  },
  {
   "cell_type": "code",
   "execution_count": null,
   "id": "3f39c63f",
   "metadata": {
    "id": "3f39c63f"
   },
   "outputs": [],
   "source": [
    "%%R\n",
    "#Create and properly format a table with every TF protein + orthogroup + symbol ID etc.\n",
    "{\n",
    "#get the families in a format family <--> gene\n",
    "hysim_fams <- as.data.frame(\n",
    "  hysim_orthogroups[,c(1,6)] %>%\n",
    "    melt(\"Hsim\") %>%\n",
    "    mutate(Hsim=strsplit(Hsim, \",\")) %>%\n",
    "    unnest(Hsim)\n",
    ")[,c(1,3)] ; colnames(hysim_fams) = c(\"id\",\"og\")\n",
    "\n",
    "#hsap\n",
    "hsap_fams <- as.data.frame(\n",
    "  hysim_orthogroups[c(1,5)] %>%\n",
    "  melt(\"Hsap\") %>%\n",
    "  mutate(Hsap=strsplit(Hsap, \",\")) %>%\n",
    "  unnest(Hsap)\n",
    ")[,c(1,3)] ; colnames(hsap_fams) = c(\"id\",\"og\")\n",
    "\n",
    "hsap_fams$id <-\n",
    "  stri_replace_all_regex(hsap_fams$id,\n",
    "                         pattern=c(\"N \", \"\\\\..*\"),\n",
    "                         replacement=c(\"\", \"\"),\n",
    "                         vectorize=FALSE)\n",
    "\n",
    "hsap_fams <- merge(\n",
    "  hsap_fams,\n",
    "  animaltfdb,\n",
    "  by.x = 1,\n",
    "  by.y = 1,\n",
    "  all = F\n",
    ")\n",
    "#drer\n",
    "drer_fams <- as.data.frame(\n",
    "  hysim_orthogroups[,c(1,4)] %>%\n",
    "  melt(\"Drer\") %>%\n",
    "  mutate(Drer=strsplit(Drer, \",\")) %>%\n",
    "  unnest(Drer)\n",
    ")[,c(1,3)] ; colnames(drer_fams) = c(\"id\",\"og\")\n",
    "\n",
    "drer_fams$id <-\n",
    "  stri_replace_all_regex(drer_fams$id,\n",
    "                         pattern=c(\"N \", \"\\\\..*\"),\n",
    "                         replacement=c(\"\", \"\"),\n",
    "                         vectorize=FALSE)\n",
    "\n",
    "drer_fams <- merge(\n",
    "  drer_fams,\n",
    "  animaltfdb,\n",
    "  by.x = 1,\n",
    "  by.y = 1,\n",
    "  all = F\n",
    ")\n",
    "\n",
    "#mmus\n",
    "mmus_fams <-as.data.frame(\n",
    "  hysim_orthogroups[,c(1,8)] %>%\n",
    "  melt(\"Mmus\") %>%\n",
    "  mutate(Mmus=strsplit(Mmus, \",\")) %>%\n",
    "  unnest(Mmus)\n",
    ")[,c(1,3)] ; colnames(mmus_fams) = c(\"id\",\"og\")\n",
    "\n",
    "mmus_fams$id <-\n",
    "  stri_replace_all_regex(mmus_fams$id,\n",
    "                         pattern=c(\"N \", \"\\\\..*\"),\n",
    "                         replacement=c(\"\", \"\"),\n",
    "                         vectorize=FALSE)\n",
    "\n",
    "mmus_fams <- merge(\n",
    "  mmus_fams,\n",
    "  animaltfdb,\n",
    "  by.x = 1,\n",
    "  by.y = 1,\n",
    "  all = F\n",
    ")\n",
    "\n",
    "#dmel\n",
    "dmel_fams <-as.data.frame(\n",
    "  hysim_orthogroups[,c(1,3)] %>%\n",
    "    melt(\"Dmel\") %>%\n",
    "    mutate(Dmel=strsplit(Dmel, \",\")) %>%\n",
    "    unnest(Dmel)\n",
    ")[,c(1,3)] ; colnames(dmel_fams) = c(\"id\",\"og\")\n",
    "\n",
    "dmel_fams$id <-\n",
    "  stri_replace_all_regex(dmel_fams$id,\n",
    "                         pattern=c(\"N \", \"\\\\..*\"),\n",
    "                         replacement=c(\"\", \"\"),\n",
    "                         vectorize=FALSE)\n",
    "\n",
    "dmel_fams <- merge(\n",
    "  dmel_fams,\n",
    "  animaltfdb,\n",
    "  by.x = 1,\n",
    "  by.y = 1,\n",
    "  all = F\n",
    ")\n",
    "\n",
    "}\n"
   ]
  },
  {
   "cell_type": "code",
   "execution_count": null,
   "id": "4a09ff7e",
   "metadata": {
    "id": "4a09ff7e",
    "outputId": "c1e268f1-0158-470a-dbb0-9b8dfb0669ef"
   },
   "outputs": [
    {
     "name": "stdout",
     "output_type": "stream",
     "text": [
      "               id        og\n",
      "1  XP_057289799.1 OG0000000\n",
      "2  XP_057289947.1 OG0000000\n",
      "3  XP_057293392.1 OG0000000\n",
      "4  XP_057295735.1 OG0000000\n",
      "5  XP_057297592.1 OG0000000\n",
      "6  XP_057301563.1 OG0000000\n"
     ]
    }
   ],
   "source": [
    "%%R\n",
    "head(hysim_fams)"
   ]
  },
  {
   "cell_type": "code",
   "execution_count": null,
   "id": "ab4ac3a9",
   "metadata": {
    "id": "ab4ac3a9",
    "outputId": "c13a5386-c097-4aaf-edec-b00453efa6b9"
   },
   "outputs": [
    {
     "name": "stdout",
     "output_type": "stream",
     "text": [
      "              id        PF                     PF_name\n",
      "1 XP_057289300.1      <NA>                        <NA>\n",
      "2 XP_057289301.1 PTHR11548      THYMIDYLATE SYNTHASE 1\n",
      "3 XP_057289301.1   PF00303        Thymidylate synthase\n",
      "4 XP_057289302.1   PF14822                   Vasohibin\n",
      "5 XP_057289302.1 PTHR15750 VASOHIBIN-1-LIKE ISOFORM X2\n",
      "                                          PF_group?                    GO\n",
      "1                                              <NA>                  <NA>\n",
      "2        Thymidylate synthase/dCMP hydroxymethylase            GO:0016741\n",
      "3 Thymidylate synthase/dCMP hydroxymethylase domain                     -\n",
      "4                    Tubulinyl-Tyr carboxypeptidase GO:0005737|GO:0045765\n",
      "5                    Tubulinyl-Tyr carboxypeptidase GO:0005737|GO:0045765\n",
      "                                   SF_domain\n",
      "1                                       <NA>\n",
      "2 Thymidylate synthase/dCMP hydroxymethylase\n",
      "3 Thymidylate synthase/dCMP hydroxymethylase\n",
      "4                                       <NA>\n",
      "5                                       <NA>\n",
      "                                             SF_superfam rbhit_organism\n",
      "1                                                   <NA>           <NA>\n",
      "2 Thymidylate synthase/dCMP hydroxymethylase superfamily           <NA>\n",
      "3 Thymidylate synthase/dCMP hydroxymethylase superfamily           <NA>\n",
      "4                                                   <NA>           <NA>\n",
      "5                                                   <NA>           <NA>\n",
      "  rbhit_description\n",
      "1              <NA>\n",
      "2              <NA>\n",
      "3              <NA>\n",
      "4              <NA>\n",
      "5              <NA>\n"
     ]
    }
   ],
   "source": [
    "%%R\n",
    "(hysim_TFS_fulltable[1:5,])"
   ]
  },
  {
   "cell_type": "code",
   "execution_count": null,
   "id": "e8f8e3d8",
   "metadata": {
    "id": "e8f8e3d8"
   },
   "outputs": [],
   "source": [
    "%%R\n",
    "# Merging of all the gfams\n",
    "fams_merging <- unique(\n",
    "  merge(\n",
    "  dmel_fams[,2:4],\n",
    "    merge(\n",
    "      drer_fams[,2:4],\n",
    "      merge(\n",
    "        hsap_fams[,2:4],\n",
    "        mmus_fams[,2:4],\n",
    "        by=1,\n",
    "        all=T\n",
    "      ),\n",
    "      by=1,\n",
    "      all=T\n",
    "    ),\n",
    "  by=1,\n",
    "  all=T\n",
    "  )\n",
    ")\n",
    "\n",
    "fams_merging$sym <-\n",
    "  apply(fams_merging, 1, function(x) {\n",
    "    paste(unique(x[c(3, 5, 7, 9)]), collapse = \",\")\n",
    "  })\n",
    "fams_merging$fam <-\n",
    "  apply(fams_merging, 1, function(x) {\n",
    "    paste(unique(x[c(2, 4, 6, 8)]), collapse = \",\")\n",
    "  })\n",
    "\n",
    "fams_TFs <-\n",
    "  aggregate(\n",
    "    fams_merging,\n",
    "    by = list(fams_merging$og),\n",
    "    FUN = function(x) {\n",
    "      paste(unique(x), collapse = \",\")\n",
    "    }\n",
    "  )[, -1]\n",
    "\n",
    "#collapse columns into single values, comma-separatd\n",
    "fams_TFs$sym <-\n",
    "  apply(fams_TFs, 1, function(x) {\n",
    "    paste(unique(unlist(strsplit(x[c(3, 5, 7, 9)], \",\"))), collapse = \",\")\n",
    "  })\n",
    "fams_TFs$fam <-\n",
    "  apply(fams_TFs, 1, function(x) {\n",
    "    paste(unique(unlist(strsplit(x[c(2, 4, 6, 8)], \",\"))), collapse = \",\")\n",
    "  })\n",
    "fams_TFs <- fams_TFs[, c(1, 10, 11)]\n",
    "\n",
    "fams_TFs$sym <- stri_replace_all_regex(fams_TFs$sym,\n",
    "                                  pattern=c(\"NA\", \",,\", \"^,\", \",$\"),\n",
    "                                  replacement=c(\"\", \"\", \"\", \"\"),\n",
    "                                  vectorize=FALSE)\n",
    "fams_TFs$fam <- stri_replace_all_regex(fams_TFs$fam,\n",
    "                                  pattern=c(\"NA\", \",,\", \"^,\", \",$\"),\n",
    "                                  replacement=c(\"\", \"\", \"\", \"\"),\n",
    "                                  vectorize=FALSE)\n",
    "\n",
    "hsym_fams_TFs <- merge(\n",
    "  hysim_fams,\n",
    "  fams_TFs,\n",
    "  by.x=2,\n",
    "  by.y=1,\n",
    "  all = T\n",
    ")\n",
    "\n",
    "hsym_TFS_fulltable <- merge(\n",
    "  hysim_TFS_fulltable,\n",
    "  hysim_fams_TFs,\n",
    "  by.x = 1,\n",
    "  by.y = 2,\n",
    "  all.x = T\n",
    ")"
   ]
  },
  {
   "cell_type": "code",
   "execution_count": null,
   "id": "cb946f56",
   "metadata": {
    "id": "cb946f56",
    "outputId": "6c4adea2-5fac-440b-be9d-96d7c19d7429"
   },
   "outputs": [
    {
     "name": "stdout",
     "output_type": "stream",
     "text": [
      "         og              id                        sym      fam\n",
      "1 OG0000000  XP_057295735.1 CG11085,hoxb6a,HOXA5,Hoxb6 Homeobox\n",
      "2 OG0000000  XP_057316305.1 CG11085,hoxb6a,HOXA5,Hoxb6 Homeobox\n",
      "3 OG0000000  XP_057307954.1 CG11085,hoxb6a,HOXA5,Hoxb6 Homeobox\n",
      "4 OG0000000  XP_057307586.1 CG11085,hoxb6a,HOXA5,Hoxb6 Homeobox\n",
      "5 OG0000000  XP_057289799.1 CG11085,hoxb6a,HOXA5,Hoxb6 Homeobox\n",
      "6 OG0000000  XP_057307742.1 CG11085,hoxb6a,HOXA5,Hoxb6 Homeobox\n"
     ]
    }
   ],
   "source": [
    "%%R\n",
    "head(hsym_fams_TFs)"
   ]
  },
  {
   "cell_type": "code",
   "execution_count": null,
   "id": "e454d24e",
   "metadata": {
    "id": "e454d24e",
    "outputId": "af7c12fb-29ef-424f-dd3c-c6287ae5f31f"
   },
   "outputs": [
    {
     "name": "stdout",
     "output_type": "stream",
     "text": [
      "              id        PF                     PF_name\n",
      "1 XP_057289300.1      <NA>                        <NA>\n",
      "2 XP_057289301.1 PTHR11548      THYMIDYLATE SYNTHASE 1\n",
      "3 XP_057289301.1   PF00303        Thymidylate synthase\n",
      "4 XP_057289302.1   PF14822                   Vasohibin\n",
      "5 XP_057289302.1 PTHR15750 VASOHIBIN-1-LIKE ISOFORM X2\n",
      "6 XP_057289303.1 PTHR24388         ZINC FINGER PROTEIN\n",
      "                                          PF_group?                    GO\n",
      "1                                              <NA>                  <NA>\n",
      "2        Thymidylate synthase/dCMP hydroxymethylase            GO:0016741\n",
      "3 Thymidylate synthase/dCMP hydroxymethylase domain                     -\n",
      "4                    Tubulinyl-Tyr carboxypeptidase GO:0005737|GO:0045765\n",
      "5                    Tubulinyl-Tyr carboxypeptidase GO:0005737|GO:0045765\n",
      "6                                                 -                      \n",
      "                                   SF_domain\n",
      "1                                       <NA>\n",
      "2 Thymidylate synthase/dCMP hydroxymethylase\n",
      "3 Thymidylate synthase/dCMP hydroxymethylase\n",
      "4                                       <NA>\n",
      "5                                       <NA>\n",
      "6               beta-beta-alpha zinc fingers\n",
      "                                             SF_superfam rbhit_organism\n",
      "1                                                   <NA>           <NA>\n",
      "2 Thymidylate synthase/dCMP hydroxymethylase superfamily           <NA>\n",
      "3 Thymidylate synthase/dCMP hydroxymethylase superfamily           <NA>\n",
      "4                                                   <NA>           <NA>\n",
      "5                                                   <NA>           <NA>\n",
      "6                           Zinc finger C2H2 superfamily           <NA>\n",
      "  rbhit_description      og.x sym.x fam.x      og.y sym.y fam.y\n",
      "1              <NA> OG0008987  <NA>  <NA> OG0008987  <NA>  <NA>\n",
      "2              <NA> OG0008768  <NA>  <NA> OG0008768  <NA>  <NA>\n",
      "3              <NA> OG0008768  <NA>  <NA> OG0008768  <NA>  <NA>\n",
      "4              <NA> OG0004093  <NA>  <NA> OG0004093  <NA>  <NA>\n",
      "5              <NA> OG0004093  <NA>  <NA> OG0004093  <NA>  <NA>\n",
      "6              <NA> OG0043746  <NA>  <NA> OG0043746  <NA>  <NA>\n"
     ]
    }
   ],
   "source": [
    "%%R\n",
    "head(hsym_TFS_fulltable)"
   ]
  },
  {
   "cell_type": "code",
   "execution_count": null,
   "id": "54a7100e",
   "metadata": {
    "id": "54a7100e",
    "outputId": "35a5b030-63f3-48b2-a005-1d7ebe7585a2"
   },
   "outputs": [
    {
     "data": {
      "image/png": "[encoded data removed]"
     },
     "metadata": {},
     "output_type": "display_data"
    }
   ],
   "source": [
    "%%R\n",
    "# binary presence-absence table to quantify number of evidences\n",
    "hysim_TFs_yesno <- data.frame(\n",
    "  id = hysim_TFS_fulltable$id,\n",
    "  pfam = ifelse(is.na(hysim_TFS_fulltable$PF), 0, 1),\n",
    "  sfam = ifelse(is.na(hysim_TFS_fulltable$SF_domain), 0, 1),\n",
    "  rbhit = ifelse(is.na(hysim_TFS_fulltable$rbhit_organism), 0, 1),\n",
    "  ogfam = ifelse(is.na(hysim_TFS_fulltable$fam),0,1)\n",
    ")\n",
    "\n",
    "hysim_TFs_yesno_venn <- list(\n",
    "  pfam = subset(hysim_TFs_yesno,pfam == 1)$id,\n",
    "  sfam = subset(hysim_TFs_yesno,sfam == 1)$id,\n",
    "  rbhit = subset(hysim_TFs_yesno,rbhit == 1)$id,\n",
    "  ofgam = subset(hysim_TFs_yesno,ogfam == 1)$id\n",
    ")\n",
    "\n",
    "display_venn(hysim_TFs_yesno_venn)"
   ]
  },
  {
   "cell_type": "code",
   "execution_count": null,
   "id": "c594a45b",
   "metadata": {
    "id": "c594a45b"
   },
   "outputs": [],
   "source": [
    "%%R\n",
    "#Important: We count 2 sources of evidence as minimum\n",
    "hysim_TFs_yesno$filt <-\n",
    "  ifelse(\n",
    "    rowSums(hysim_TFs_yesno[,2:5]) > 2,\n",
    "    TRUE,\n",
    "    FALSE\n",
    "    )\n",
    "\n",
    "hysim_TFS <- unique(\n",
    "  hysim_TFS_fulltable[\n",
    "    hysim_TFS_fulltable$id %in% hysim_TFs_yesno$id[hysim_TFs_yesno$filt == T]\n",
    "    ,c(1,3,6,9,11,12)\n",
    "    ]\n",
    "  )\n",
    "\n",
    "colnames(hysim_TFS) <- c(\n",
    "  \"id\",\n",
    "  \"pfam_domain_name\",\n",
    "  \"pfam_superfamily_name\",\n",
    "  \"blastp_RBH_swissprotTFs\",\n",
    "  \"orthofinder_animalTFDB_symbol\",\n",
    "  \"orthofinder_animalTFDB_family\"\n",
    ")\n",
    "\n",
    "write.table(\n",
    "  hysim_TFS,\n",
    "  \"./20230717_hsym_TFs_precurated_V1.tsv\",\n",
    "  sep =\"\\t\",\n",
    "  quote = F,\n",
    "  row.names=F\n",
    ")"
   ]
  },
  {
   "cell_type": "code",
   "execution_count": null,
   "id": "6936c9ea",
   "metadata": {
    "id": "6936c9ea",
    "outputId": "a2529d65-b710-4dfb-eb07-87779d02506d"
   },
   "outputs": [
    {
     "name": "stdout",
     "output_type": "stream",
     "text": [
      "                id                                 pfam_domain_name\n",
      "127 XP_057289338.1                                       PBC domain\n",
      "128 XP_057289338.1           HOMEOBOX PROTEIN TRANSCRIPTION FACTORS\n",
      "129 XP_057289338.1                                      Homeodomain\n",
      "170 XP_057289355.1                                       Ets-domain\n",
      "171 XP_057289355.1                                              ETS\n",
      "314 XP_057289396.1 CYCLIN-D-BINDING MYB-LIKE TRANSCRIPTION FACTOR 1\n",
      "              pfam_superfamily_name blastp_RBH_swissprotTFs\n",
      "127                Homeodomain-like                    <NA>\n",
      "128                Homeodomain-like                    <NA>\n",
      "129                Homeodomain-like                    <NA>\n",
      "170 Winged helix DNA-binding domain                    <NA>\n",
      "171 Winged helix DNA-binding domain                    <NA>\n",
      "314                Homeodomain-like                    <NA>\n",
      "    orthofinder_animalTFDB_symbol orthofinder_animalTFDB_family\n",
      "127            exd,pbx2,PBX4,Pbx2                      Homeobox\n",
      "128            exd,pbx2,PBX4,Pbx2                      Homeobox\n",
      "129            exd,pbx2,PBX4,Pbx2                      Homeobox\n",
      "170        Ets65A,etv2,ELK1,Gabpa                           ETS\n",
      "171        Ets65A,etv2,ELK1,Gabpa                           ETS\n",
      "314             dmtf1,DMTF1,Dmtf1                           MYB\n"
     ]
    }
   ],
   "source": [
    "%%R\n",
    "head(hysim_TFS)"
   ]
  },
  {
   "cell_type": "markdown",
   "id": "6ada2f92",
   "metadata": {
    "id": "6ada2f92"
   },
   "source": [
    "Remove duplicate or non-informative rows however you prefer  \n",
    "(these are generated due to more than one kind of name for some pfam domains,\n",
    "and to a lesser extent, some TFs having two identical domains and such)"
   ]
  },
  {
   "cell_type": "code",
   "execution_count": null,
   "id": "d85292e1",
   "metadata": {
    "id": "d85292e1",
    "outputId": "406db4c7-6f60-4433-b1ca-40ce4bc3b5d3"
   },
   "outputs": [
    {
     "name": "stdout",
     "output_type": "stream",
     "text": [
      "[1] 813   6\n"
     ]
    }
   ],
   "source": [
    "%%R\n",
    "#dimensions with the last genome assembly\n",
    "dim(hysim_TFS)"
   ]
  },
  {
   "cell_type": "markdown",
   "id": "172d0307",
   "metadata": {
    "id": "172d0307"
   },
   "source": [
    "#### Create curated table with class and gene ID"
   ]
  },
  {
   "cell_type": "code",
   "execution_count": null,
   "id": "d87de63b",
   "metadata": {
    "id": "d87de63b",
    "scrolled": true
   },
   "outputs": [],
   "source": [
    "%%R\n",
    "# manually curated list of TFs in 20230717_hsym_TFs_precurated_V1.tsv\n",
    "hysim_tfs <- unique(\n",
    "  read.table(\n",
    "    \"./20230725_hsym_TFs_curated_V3.tsv\",\n",
    "    sep =\"\\t\",\n",
    "    header = T\n",
    "  )\n",
    ")"
   ]
  },
  {
   "cell_type": "code",
   "execution_count": null,
   "id": "8cf59972",
   "metadata": {
    "id": "8cf59972",
    "outputId": "a5f01f05-302b-4831-b8f5-61f7533df33d"
   },
   "outputs": [
    {
     "name": "stdout",
     "output_type": "stream",
     "text": [
      "[1] \"LOC130612065\" \"LOC130612084\" \"LOC130612125\" \"LOC130612189\" \"LOC130612234\"\n",
      "[6] \"LOC130612244\"\n"
     ]
    }
   ],
   "source": [
    "%%R\n",
    "head(hysim_tfs$id)"
   ]
  },
  {
   "cell_type": "code",
   "execution_count": null,
   "id": "fcbf9103",
   "metadata": {
    "id": "fcbf9103"
   },
   "outputs": [],
   "source": [
    "%%R\n",
    "#hysim_tfs$class <- sub(\"-\",\"_\",hysim_tfs$class)\n",
    "#hysim_tfs$id <- sub(\"\\\\.p.*\",\"\",hysim_tfs$id)\n",
    "\n",
    "rownames(hysim_tfs) <-  NULL\n",
    "hysim_tfs$id_class <- paste(\n",
    "  hysim_tfs$id,\n",
    "  hysim_tfs$class,\n",
    "  sep = \"_\"\n",
    ")"
   ]
  },
  {
   "cell_type": "code",
   "execution_count": null,
   "id": "a3766804",
   "metadata": {
    "id": "a3766804",
    "outputId": "2b09e251-fa28-46ab-a99b-0c3add58d7a8"
   },
   "outputs": [
    {
     "name": "stdout",
     "output_type": "stream",
     "text": [
      "            id        class                  id_class\n",
      "1 LOC130612065 Homeodomain  LOC130612065_Homeodomain \n",
      "2 LOC130612084          ETS          LOC130612084_ETS\n",
      "3 LOC130612125          MYB          LOC130612125_MYB\n",
      "4 LOC130612189      zf_C2H2      LOC130612189_zf_C2H2\n",
      "5 LOC130612234          MYB          LOC130612234_MYB\n",
      "6 LOC130612244      zf_C2H2      LOC130612244_zf_C2H2\n"
     ]
    }
   ],
   "source": [
    "%%R\n",
    "head(hysim_tfs)"
   ]
  },
  {
   "cell_type": "code",
   "execution_count": null,
   "id": "124fb5e0",
   "metadata": {
    "id": "124fb5e0"
   },
   "outputs": [],
   "source": [
    "%%R\n",
    "write.table(\n",
    "  hysim_tfs,\n",
    "  paste(\n",
    "    \"./\",\n",
    "    fcha(),\n",
    "    \"_hydractinia_TFs_curated.tsv\",\n",
    "    sep=\"\"\n",
    "  ),\n",
    "  sep=\"\\t\",\n",
    "  dec=\".\",\n",
    "  row.names=F,\n",
    "  quote=F\n",
    ")"
   ]
  }
 ],
 "metadata": {
  "colab": {
   "provenance": []
  },
  "kernelspec": {
   "display_name": "Python 3 (ipykernel)",
   "language": "python",
   "name": "python3"
  },
  "language_info": {
   "codemirror_mode": {
    "name": "ipython",
    "version": 3
   },
   "file_extension": ".py",
   "mimetype": "text/x-python",
   "name": "python",
   "nbconvert_exporter": "python",
   "pygments_lexer": "ipython3",
   "version": "3.12.4"
  }
 },
 "nbformat": 4,
 "nbformat_minor": 5
}
